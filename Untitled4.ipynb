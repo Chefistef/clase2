{
  "nbformat": 4,
  "nbformat_minor": 0,
  "metadata": {
    "colab": {
      "name": "Untitled4.ipynb",
      "provenance": [],
      "include_colab_link": true
    },
    "kernelspec": {
      "name": "python3",
      "display_name": "Python 3"
    }
  },
  "cells": [
    {
      "cell_type": "markdown",
      "metadata": {
        "id": "view-in-github",
        "colab_type": "text"
      },
      "source": [
        "<a href=\"https://colab.research.google.com/github/Chefistef/clase2/blob/master/Untitled4.ipynb\" target=\"_parent\"><img src=\"https://colab.research.google.com/assets/colab-badge.svg\" alt=\"Open In Colab\"/></a>"
      ]
    },
    {
      "cell_type": "code",
      "metadata": {
        "id": "ImCUfRx2lRWI",
        "colab_type": "code",
        "colab": {}
      },
      "source": [
        "def suma(a,b):\n",
        "    s = a + b\n",
        "    return s\n",
        "  "
      ],
      "execution_count": 0,
      "outputs": []
    },
    {
      "cell_type": "code",
      "metadata": {
        "id": "JCdZfRBKlq8m",
        "colab_type": "code",
        "colab": {}
      },
      "source": [
        "def resta(a,b):\n",
        "    s = a +-b\n",
        "    return r\n",
        "  \n",
        "  "
      ],
      "execution_count": 0,
      "outputs": []
    },
    {
      "cell_type": "markdown",
      "metadata": {
        "id": "cZ0TNpkSlcnW",
        "colab_type": "text"
      },
      "source": [
        "como llamo la variable\n",
        "como llamo una funcion\n",
        "> suma(4,6)\n"
      ]
    },
    {
      "cell_type": "code",
      "metadata": {
        "id": "lpNOk3uplaJ2",
        "colab_type": "code",
        "colab": {
          "base_uri": "https://localhost:8080/",
          "height": 35
        },
        "outputId": "978e65bb-d361-4007-e279-674e4d2a14f7"
      },
      "source": [
        "v =suma(4,6)\n",
        "v"
      ],
      "execution_count": 4,
      "outputs": [
        {
          "output_type": "execute_result",
          "data": {
            "text/plain": [
              "10"
            ]
          },
          "metadata": {
            "tags": []
          },
          "execution_count": 4
        }
      ]
    },
    {
      "cell_type": "code",
      "metadata": {
        "id": "55WvJj1GmVLF",
        "colab_type": "code",
        "colab": {}
      },
      "source": [
        "def area_triangulo(b,h):\n",
        "  A = b*h / 2\n",
        "  return A"
      ],
      "execution_count": 0,
      "outputs": []
    },
    {
      "cell_type": "code",
      "metadata": {
        "id": "m9VAyrkmmli0",
        "colab_type": "code",
        "colab": {}
      },
      "source": [
        "class AreaTriangulo # Camel case\n",
        "def area_triangulo # Sanke case\n",
        "    "
      ],
      "execution_count": 0,
      "outputs": []
    },
    {
      "cell_type": "code",
      "metadata": {
        "id": "nEl4WTGutBdn",
        "colab_type": "code",
        "colab": {
          "base_uri": "https://localhost:8080/",
          "height": 999
        },
        "outputId": "f338648a-8dbf-4d61-96fb-01d6f455f8b5"
      },
      "source": [
        "import math\n",
        "dir(math)"
      ],
      "execution_count": 55,
      "outputs": [
        {
          "output_type": "execute_result",
          "data": {
            "text/plain": [
              "['__doc__',\n",
              " '__loader__',\n",
              " '__name__',\n",
              " '__package__',\n",
              " '__spec__',\n",
              " 'acos',\n",
              " 'acosh',\n",
              " 'asin',\n",
              " 'asinh',\n",
              " 'atan',\n",
              " 'atan2',\n",
              " 'atanh',\n",
              " 'ceil',\n",
              " 'copysign',\n",
              " 'cos',\n",
              " 'cosh',\n",
              " 'degrees',\n",
              " 'e',\n",
              " 'erf',\n",
              " 'erfc',\n",
              " 'exp',\n",
              " 'expm1',\n",
              " 'fabs',\n",
              " 'factorial',\n",
              " 'floor',\n",
              " 'fmod',\n",
              " 'frexp',\n",
              " 'fsum',\n",
              " 'gamma',\n",
              " 'gcd',\n",
              " 'hypot',\n",
              " 'inf',\n",
              " 'isclose',\n",
              " 'isfinite',\n",
              " 'isinf',\n",
              " 'isnan',\n",
              " 'ldexp',\n",
              " 'lgamma',\n",
              " 'log',\n",
              " 'log10',\n",
              " 'log1p',\n",
              " 'log2',\n",
              " 'modf',\n",
              " 'nan',\n",
              " 'pi',\n",
              " 'pow',\n",
              " 'radians',\n",
              " 'sin',\n",
              " 'sinh',\n",
              " 'sqrt',\n",
              " 'tan',\n",
              " 'tanh',\n",
              " 'tau',\n",
              " 'trunc']"
            ]
          },
          "metadata": {
            "tags": []
          },
          "execution_count": 55
        }
      ]
    },
    {
      "cell_type": "code",
      "metadata": {
        "id": "Zrf4ksqBmlv8",
        "colab_type": "code",
        "colab": {}
      },
      "source": [
        "CC = [-20, -15, -10, -5, 0, 5, 10, 15, 20, 25, 30, 35, 40]\n",
        "i = 0\n",
        "print('  C    K     F')\n",
        "print(\"-\"*20)\n",
        "\n",
        "while i < len(CC):\n",
        "    C = CC[i]\n",
        "    K = CC[i] + 273\n",
        "    F = (9.0/5)*C + 32\n",
        "    print('%s %s %s' %(C, K, F))\n",
        "    i += 1\n",
        "\n",
        "# Completar ejercicio!!!!"
      ],
      "execution_count": 0,
      "outputs": []
    },
    {
      "cell_type": "code",
      "metadata": {
        "id": "i-pXn1KAml90",
        "colab_type": "code",
        "colab": {}
      },
      "source": [
        "def temperatura( C, F, K):\n",
        "  \n",
        " \n",
        "    T = C = CC[i]\n",
        "    T = K = CC[i] + 273\n",
        "    T = F = (9.0/5)*C + 32\n",
        "    return T"
      ],
      "execution_count": 0,
      "outputs": []
    },
    {
      "cell_type": "code",
      "metadata": {
        "id": "c5B5K_gCpXHT",
        "colab_type": "code",
        "colab": {
          "base_uri": "https://localhost:8080/",
          "height": 35
        },
        "outputId": "9b006ddf-6acd-4abf-f836-a3a2e795040c"
      },
      "source": [
        " # os , sys, math, json, request\n",
        "  import math\n",
        "  dir(math)\n",
        "  math.pi\n",
        "   "
      ],
      "execution_count": 38,
      "outputs": [
        {
          "output_type": "execute_result",
          "data": {
            "text/plain": [
              "3.141592653589793"
            ]
          },
          "metadata": {
            "tags": []
          },
          "execution_count": 38
        }
      ]
    },
    {
      "cell_type": "code",
      "metadata": {
        "id": "mTynaVFdqjra",
        "colab_type": "code",
        "colab": {}
      },
      "source": [
        "def area_circulo(r):\n",
        "  area = math.pi*(r**2)\n",
        "  return area\n"
      ],
      "execution_count": 0,
      "outputs": []
    },
    {
      "cell_type": "code",
      "metadata": {
        "id": "X6AClKA1q9hI",
        "colab_type": "code",
        "colab": {
          "base_uri": "https://localhost:8080/",
          "height": 35
        },
        "outputId": "4bc950b3-e1c2-40bf-b317-35faf2510751"
      },
      "source": [
        "area_circulo(10)\n"
      ],
      "execution_count": 49,
      "outputs": [
        {
          "output_type": "execute_result",
          "data": {
            "text/plain": [
              "314.1592653589793"
            ]
          },
          "metadata": {
            "tags": []
          },
          "execution_count": 49
        }
      ]
    },
    {
      "cell_type": "code",
      "metadata": {
        "id": "jgZxo_sprLj5",
        "colab_type": "code",
        "colab": {}
      },
      "source": [
        "def esfera(r):\n",
        "  area = 4 * math.pi * (r ** 3)\n",
        "  volumen = (4/3) * math.pi * (r ** 3)\n",
        "  return {\"area\":area, \"volumen\": volumen}\n"
      ],
      "execution_count": 0,
      "outputs": []
    },
    {
      "cell_type": "code",
      "metadata": {
        "id": "J6YH3suMroym",
        "colab_type": "code",
        "colab": {
          "base_uri": "https://localhost:8080/",
          "height": 35
        },
        "outputId": "b22b39ab-0f36-4e63-be9a-38722e3e3219"
      },
      "source": [
        "esfera(20)"
      ],
      "execution_count": 52,
      "outputs": [
        {
          "output_type": "execute_result",
          "data": {
            "text/plain": [
              "{'area': 100530.96491487337, 'volumen': 33510.32163829113}"
            ]
          },
          "metadata": {
            "tags": []
          },
          "execution_count": 52
        }
      ]
    },
    {
      "cell_type": "code",
      "metadata": {
        "id": "aTPS1r5brr_u",
        "colab_type": "code",
        "colab": {}
      },
      "source": [
        "def media_geometrica(n)\n",
        "  media = (n)** 2\n",
        "  "
      ],
      "execution_count": 0,
      "outputs": []
    },
    {
      "cell_type": "markdown",
      "metadata": {
        "id": "T-FcJ0B7pbYL",
        "colab_type": "text"
      },
      "source": [
        "creamos una carpeta llamando a la libreria os \n",
        "como sabemos elparametro que nos pide , usar TAB"
      ]
    },
    {
      "cell_type": "code",
      "metadata": {
        "id": "br62IcZlq7w5",
        "colab_type": "code",
        "colab": {}
      },
      "source": [
        ""
      ],
      "execution_count": 0,
      "outputs": []
    }
  ]
}