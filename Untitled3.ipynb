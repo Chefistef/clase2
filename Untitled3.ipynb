{
  "nbformat": 4,
  "nbformat_minor": 0,
  "metadata": {
    "colab": {
      "name": "Untitled3.ipynb",
      "provenance": [],
      "include_colab_link": true
    },
    "kernelspec": {
      "name": "python3",
      "display_name": "Python 3"
    }
  },
  "cells": [
    {
      "cell_type": "markdown",
      "metadata": {
        "id": "view-in-github",
        "colab_type": "text"
      },
      "source": [
        "<a href=\"https://colab.research.google.com/github/Chefistef/clase2/blob/master/Untitled3.ipynb\" target=\"_parent\"><img src=\"https://colab.research.google.com/assets/colab-badge.svg\" alt=\"Open In Colab\"/></a>"
      ]
    },
    {
      "cell_type": "code",
      "metadata": {
        "id": "gHidP1_PcR65",
        "colab_type": "code",
        "colab": {
          "base_uri": "https://localhost:8080/",
          "height": 135
        },
        "outputId": "77877cf6-a648-4b53-dcff-49ceb3baf17c"
      },
      "source": [
        "lista = [\"troposfera\", \"estratosfera\", \"ionosfera\"]\n",
        "  for i in (lista)\n",
        "    \n",
        "  "
      ],
      "execution_count": 15,
      "outputs": [
        {
          "output_type": "error",
          "ename": "IndentationError",
          "evalue": "ignored",
          "traceback": [
            "\u001b[0;36m  File \u001b[0;32m\"<ipython-input-15-57ca75370e26>\"\u001b[0;36m, line \u001b[0;32m2\u001b[0m\n\u001b[0;31m    for i in (lista)\u001b[0m\n\u001b[0m    ^\u001b[0m\n\u001b[0;31mIndentationError\u001b[0m\u001b[0;31m:\u001b[0m unexpected indent\n"
          ]
        }
      ]
    },
    {
      "cell_type": "code",
      "metadata": {
        "id": "gYqF2s4If1C4",
        "colab_type": "code",
        "colab": {}
      },
      "source": [
        ""
      ],
      "execution_count": 0,
      "outputs": []
    },
    {
      "cell_type": "code",
      "metadata": {
        "id": "hN8gFk5ddRCM",
        "colab_type": "code",
        "colab": {
          "base_uri": "https://localhost:8080/",
          "height": 135
        },
        "outputId": "8c8a2732-e130-4a27-c081-495cc84d469a"
      },
      "source": [
        "#almacenarlista\n",
        "\n",
        "lista = []\n",
        "  for x in range(100, 50, -5):\n",
        "    lista.append(x)\n",
        "    \n",
        "    "
      ],
      "execution_count": 8,
      "outputs": [
        {
          "output_type": "error",
          "ename": "IndentationError",
          "evalue": "ignored",
          "traceback": [
            "\u001b[0;36m  File \u001b[0;32m\"<ipython-input-8-239955c3bcdc>\"\u001b[0;36m, line \u001b[0;32m3\u001b[0m\n\u001b[0;31m    for x in range(100, 50, -5):\u001b[0m\n\u001b[0m    ^\u001b[0m\n\u001b[0;31mIndentationError\u001b[0m\u001b[0;31m:\u001b[0m unexpected indent\n"
          ]
        }
      ]
    },
    {
      "cell_type": "code",
      "metadata": {
        "id": "_HRshG_hdlEJ",
        "colab_type": "code",
        "colab": {
          "base_uri": "https://localhost:8080/",
          "height": 135
        },
        "outputId": "000c37fc-9ffa-447f-af60-5b6bebffef7c"
      },
      "source": [
        "x = 5\n",
        "while x > 0\n",
        "   x = x - 1\n",
        "  print(\"hola\")\n",
        "  "
      ],
      "execution_count": 10,
      "outputs": [
        {
          "output_type": "error",
          "ename": "SyntaxError",
          "evalue": "ignored",
          "traceback": [
            "\u001b[0;36m  File \u001b[0;32m\"<ipython-input-10-c3e427a716ce>\"\u001b[0;36m, line \u001b[0;32m2\u001b[0m\n\u001b[0;31m    while x > 0\u001b[0m\n\u001b[0m               ^\u001b[0m\n\u001b[0;31mSyntaxError\u001b[0m\u001b[0;31m:\u001b[0m invalid syntax\n"
          ]
        }
      ]
    },
    {
      "cell_type": "code",
      "metadata": {
        "id": "mXH9HseOd_r4",
        "colab_type": "code",
        "colab": {
          "base_uri": "https://localhost:8080/",
          "height": 90
        },
        "outputId": "3008bf89-f07e-418e-aee8-7ac9d0421099"
      },
      "source": [
        "name = 'temp'\n",
        "varName = []\n",
        "while name != 'wind':\n",
        "    name = input('Agregar variable: ')\n",
        "    varName.append(name)\n",
        "    \n",
        "print(varName)"
      ],
      "execution_count": 17,
      "outputs": [
        {
          "output_type": "stream",
          "text": [
            "Agregar variable: hola\n",
            "Agregar variable: mundo\n",
            "Agregar variable: wind\n",
            "['hola', 'mundo', 'wind']\n"
          ],
          "name": "stdout"
        }
      ]
    },
    {
      "cell_type": "code",
      "metadata": {
        "id": "7nrLWywagPlG",
        "colab_type": "code",
        "colab": {
          "base_uri": "https://localhost:8080/",
          "height": 90
        },
        "outputId": "824b5169-d5ae-42fd-f677-bba195268b12"
      },
      "source": [
        "name = 'temp'\n",
        "\n",
        "while name != 'wind':\n",
        "    name = input('Agregar variable: ')\n",
        "    varName.append(name)\n",
        "    \n",
        "print(varName)"
      ],
      "execution_count": 18,
      "outputs": [
        {
          "output_type": "stream",
          "text": [
            "Agregar variable: hola\n",
            "Agregar variable: mundo\n",
            "Agregar variable: wind\n",
            "['hola', 'mundo', 'wind', 'hola', 'mundo', 'wind']\n"
          ],
          "name": "stdout"
        }
      ]
    },
    {
      "cell_type": "code",
      "metadata": {
        "id": "q94xBLfPgUZ1",
        "colab_type": "code",
        "colab": {
          "base_uri": "https://localhost:8080/",
          "height": 90
        },
        "outputId": "472d91a9-9db7-4443-b9b5-26d569b2c18b"
      },
      "source": [
        "name = 'temp'\n",
        "while name != 'wind':\n",
        "    name = input('Agregar variable: ')\n",
        "    \n",
        "    \n"
      ],
      "execution_count": 19,
      "outputs": [
        {
          "output_type": "stream",
          "text": [
            "Agregar variable: hola\n",
            "Agregar variable: mundo\n",
            "Agregar variable: o\n",
            "Agregar variable: wind\n"
          ],
          "name": "stdout"
        }
      ]
    },
    {
      "cell_type": "code",
      "metadata": {
        "id": "RuL_YHEcgdKN",
        "colab_type": "code",
        "colab": {}
      },
      "source": [
        ""
      ],
      "execution_count": 0,
      "outputs": []
    },
    {
      "cell_type": "markdown",
      "metadata": {
        "id": "YCAULaaXgdqt",
        "colab_type": "text"
      },
      "source": [
        "formas de salir de un bucle o romper un bucle: CONTROLES DE FLUJO SE AGREGAN TANTO A LOS FOR COMO LOS WHILE\n",
        "- UN BREAK CORTA EL BUCLE\n",
        "\n"
      ]
    },
    {
      "cell_type": "code",
      "metadata": {
        "id": "PQGtFA9khFIe",
        "colab_type": "code",
        "colab": {
          "base_uri": "https://localhost:8080/",
          "height": 145
        },
        "outputId": "b9e8c9b9-424b-4190-94a7-ae0d1954a2b6"
      },
      "source": [
        "while True:\n",
        "    name = input(\"Usuario: \")\n",
        "    if name != 'Roy':\n",
        "        print(\"Este usuario no exite!!!, intentelo nuevamente...\")\n",
        "        continue\n",
        "    \n",
        "    passwd = input('contraseña: ')\n",
        "    if passwd == 'python3':\n",
        "        break\n",
        "print('Acceso concedido')"
      ],
      "execution_count": 20,
      "outputs": [
        {
          "output_type": "stream",
          "text": [
            "Usuario: stefani\n",
            "Este usuario no exite!!!, intentelo nuevamente...\n",
            "Usuario: Roy\n",
            "contraseña: 123\n",
            "Usuario: Roy\n",
            "contraseña: python3\n",
            "Acceso concedido\n"
          ],
          "name": "stdout"
        }
      ]
    },
    {
      "cell_type": "markdown",
      "metadata": {
        "id": "aKYwAG0uh5in",
        "colab_type": "text"
      },
      "source": [
        "i + = 1 <> i = i + 1"
      ]
    },
    {
      "cell_type": "code",
      "metadata": {
        "id": "epSkGjnFh4C-",
        "colab_type": "code",
        "colab": {
          "base_uri": "https://localhost:8080/",
          "height": 290
        },
        "outputId": "b8d6df9c-23ad-4c8c-edb7-6831b23e8124"
      },
      "source": [
        "CC = [-20, -15, -10, -5, 0, 5, 10, 15, 20, 25, 30, 35, 40]\n",
        "i = 0\n",
        "print('  C    K     F')\n",
        "print(\"-\"*20)\n",
        "\n",
        "while i < len(CC):\n",
        "    C = CC[i]\n",
        "    K = CC[i] + 273\n",
        "    F = (9.0/5)*C + 32\n",
        "    print('%s %s %s' %(C, K, F))\n",
        "    i += 1\n",
        "\n",
        "# Completar ejercicio!!!!"
      ],
      "execution_count": 22,
      "outputs": [
        {
          "output_type": "stream",
          "text": [
            "  C    K     F\n",
            "--------------------\n",
            "-20 253 -4.0\n",
            "-15 258 5.0\n",
            "-10 263 14.0\n",
            "-5 268 23.0\n",
            "0 273 32.0\n",
            "5 278 41.0\n",
            "10 283 50.0\n",
            "15 288 59.0\n",
            "20 293 68.0\n",
            "25 298 77.0\n",
            "30 303 86.0\n",
            "35 308 95.0\n",
            "40 313 104.0\n"
          ],
          "name": "stdout"
        }
      ]
    },
    {
      "cell_type": "code",
      "metadata": {
        "id": "PK-YHVY6jCjy",
        "colab_type": "code",
        "colab": {
          "base_uri": "https://localhost:8080/",
          "height": 181
        },
        "outputId": "56f5596d-deab-43b9-c51f-100431fbe34d"
      },
      "source": [
        "CC = [-20, -15, -10, -5, 0, 5, 10, 15, 20, 25, 30, 35, 40]\n",
        "i = 6\n",
        "print('  C    K     F')\n",
        "print(\"-\"*20)\n",
        "\n",
        "while i < len(CC):\n",
        "    C = CC[i]\n",
        "    K = CC[i] + 273\n",
        "    F = (9.0/5)*C + 32\n",
        "    print('%3d %5d %5.1f' %(C, K, F))\n",
        "    i += 1\n",
        "\n",
        "# Completar ejercicio!!!!"
      ],
      "execution_count": 23,
      "outputs": [
        {
          "output_type": "stream",
          "text": [
            "  C    K     F\n",
            "--------------------\n",
            " 10   283  50.0\n",
            " 15   288  59.0\n",
            " 20   293  68.0\n",
            " 25   298  77.0\n",
            " 30   303  86.0\n",
            " 35   308  95.0\n",
            " 40   313 104.0\n"
          ],
          "name": "stdout"
        }
      ]
    },
    {
      "cell_type": "code",
      "metadata": {
        "id": "Cjezb8lvi_EV",
        "colab_type": "code",
        "colab": {
          "base_uri": "https://localhost:8080/",
          "height": 108
        },
        "outputId": "66c103ee-0a9f-4b96-9f0e-a1726ff4886d"
      },
      "source": [
        "CC = [-20, -15, -10, -5, 0, 5, 10, 15, 20, 25, 30, 35, 40]\n",
        "i = 10\n",
        "print('  C    K     F')\n",
        "print(\"-\"*20)\n",
        "\n",
        "while i < len(CC):\n",
        "    C = CC[i]\n",
        "    K = CC[i] + 273\n",
        "    F = (9.0/5)*C + 32\n",
        "    print('%3d %5d %5.1f' %(C, K, F))\n",
        "    i += 1\n",
        "\n",
        "# Completar ejercicio!!!!"
      ],
      "execution_count": 21,
      "outputs": [
        {
          "output_type": "stream",
          "text": [
            "  C    K     F\n",
            "--------------------\n",
            " 30   303  86.0\n",
            " 35   308  95.0\n",
            " 40   313 104.0\n"
          ],
          "name": "stdout"
        }
      ]
    },
    {
      "cell_type": "markdown",
      "metadata": {
        "id": "SIo5emMfjIjW",
        "colab_type": "text"
      },
      "source": [
        "w3resource, pagina para practicar python\n"
      ]
    }
  ]
}