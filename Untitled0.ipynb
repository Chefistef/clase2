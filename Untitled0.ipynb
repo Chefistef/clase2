{
  "nbformat": 4,
  "nbformat_minor": 0,
  "metadata": {
    "colab": {
      "name": "Untitled0.ipynb",
      "provenance": [],
      "include_colab_link": true
    },
    "kernelspec": {
      "name": "python3",
      "display_name": "Python 3"
    }
  },
  "cells": [
    {
      "cell_type": "markdown",
      "metadata": {
        "id": "view-in-github",
        "colab_type": "text"
      },
      "source": [
        "<a href=\"https://colab.research.google.com/github/Chefistef/clase2/blob/master/Untitled0.ipynb\" target=\"_parent\"><img src=\"https://colab.research.google.com/assets/colab-badge.svg\" alt=\"Open In Colab\"/></a>"
      ]
    },
    {
      "cell_type": "code",
      "metadata": {
        "id": "m2fcTQTqfwUY",
        "colab_type": "code",
        "colab": {
          "base_uri": "https://localhost:8080/",
          "height": 35
        },
        "outputId": "747bb557-5639-489b-f629-36e60df3f4b9"
      },
      "source": [
        "curva = -855\n",
        "\n",
        "if curva > 0:\n",
        "  if curva % 200 == 0:\n",
        "    print(\"curva maestra\")\n",
        "  else:\n",
        "    print(\"curva secundaria\")\n",
        "else:\n",
        "  print(\"depresion\")\n"
      ],
      "execution_count": 14,
      "outputs": [
        {
          "output_type": "stream",
          "text": [
            "depresion\n"
          ],
          "name": "stdout"
        }
      ]
    }
  ]
}